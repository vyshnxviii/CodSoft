{
  "nbformat": 4,
  "nbformat_minor": 0,
  "metadata": {
    "colab": {
      "provenance": [],
      "authorship_tag": "ABX9TyNzXmSJxs+RjE1P22EhE1BL",
      "include_colab_link": true
    },
    "kernelspec": {
      "name": "python3",
      "display_name": "Python 3"
    },
    "language_info": {
      "name": "python"
    }
  },
  "cells": [
    {
      "cell_type": "markdown",
      "metadata": {
        "id": "view-in-github",
        "colab_type": "text"
      },
      "source": [
        "<a href=\"https://colab.research.google.com/github/vyshnxviii/CodSoft1/blob/main/Customer_Churn_Prediction.ipynb\" target=\"_parent\"><img src=\"https://colab.research.google.com/assets/colab-badge.svg\" alt=\"Open In Colab\"/></a>"
      ]
    },
    {
      "cell_type": "markdown",
      "source": [
        "**TASK 3** - CUSTOMER CHURN PREDICTION"
      ],
      "metadata": {
        "id": "kGkSyCPG1Pqa"
      }
    },
    {
      "cell_type": "code",
      "source": [
        "import pandas as pd\n",
        "from sklearn.model_selection import train_test_split\n",
        "from sklearn.preprocessing import LabelEncoder, StandardScaler\n",
        "from sklearn.linear_model import LogisticRegression\n",
        "from sklearn.ensemble import GradientBoostingClassifier, RandomForestClassifier\n",
        "from sklearn.metrics import accuracy_score, precision_score, recall_score, f1_score\n",
        "\n",
        "# Load the dataset\n",
        "data = pd.read_csv('/content/Churn_Modelling.csv')\n",
        "\n",
        "# Data Preprocessing\n",
        "label_encoder = LabelEncoder()\n",
        "data['Geography'] = label_encoder.fit_transform(data['Geography'])\n",
        "data['Gender'] = label_encoder.fit_transform(data['Gender'])\n",
        "\n",
        "# Define features (X) and the target variable (y)\n",
        "X = data.drop(columns=['RowNumber', 'CustomerId', 'Surname', 'Exited'])\n",
        "y = data['Exited']\n",
        "\n",
        "# Split the data into training and testing sets\n",
        "X_train, X_test, y_train, y_test = train_test_split(X, y, test_size=0.2, random_state=42)\n",
        "\n",
        "# Scale numeric features\n",
        "scaler = StandardScaler()\n",
        "X_train = scaler.fit_transform(X_train)\n",
        "X_test = scaler.transform(X_test)\n",
        "\n",
        "# Train Logistic Regression Classifier\n",
        "logistic_classifier = LogisticRegression(random_state=42)\n",
        "logistic_classifier.fit(X_train, y_train)\n",
        "\n",
        "# Make predictions with Logistic Regression\n",
        "y_pred_logistic = logistic_classifier.predict(X_test)\n",
        "\n",
        "# Model Evaluation for Logistic Regression\n",
        "accuracy_logistic = accuracy_score(y_test, y_pred_logistic)\n",
        "precision_logistic = precision_score(y_test, y_pred_logistic)\n",
        "recall_logistic = recall_score(y_test, y_pred_logistic)\n",
        "f1_logistic = f1_score(y_test, y_pred_logistic)\n",
        "\n",
        "print(\"Logistic Regression Model Evaluation:\")\n",
        "print(f\"Accuracy: {accuracy_logistic:.2f}\")\n",
        "print(f\"Precision: {precision_logistic:.2f}\")\n",
        "print(f\"Recall: {recall_logistic:.2f}\")\n",
        "print(f\"F1 Score: {f1_logistic:.2f}\")\n",
        "\n",
        "# Train Gradient Boosting Classifier\n",
        "gb_classifier = GradientBoostingClassifier(n_estimators=100, random_state=42)\n",
        "gb_classifier.fit(X_train, y_train)\n",
        "\n",
        "# Make predictions with Gradient Boosting\n",
        "y_pred_gb = gb_classifier.predict(X_test)\n",
        "\n",
        "# Model Evaluation for Gradient Boosting\n",
        "accuracy_gb = accuracy_score(y_test, y_pred_gb)\n",
        "precision_gb = precision_score(y_test, y_pred_gb)\n",
        "recall_gb = recall_score(y_test, y_pred_gb)\n",
        "f1_gb = f1_score(y_test, y_pred_gb)\n",
        "\n",
        "print(\"\\nGradient Boosting Model Evaluation:\")\n",
        "print(f\"Accuracy: {accuracy_gb:.2f}\")\n",
        "print(f\"Precision: {precision_gb:.2f}\")\n",
        "print(f\"Recall: {recall_gb:.2f}\")\n",
        "print(f\"F1 Score: {f1_gb:.2f}\")\n",
        "\n",
        "# Train Random Forest Classifier\n",
        "rf_classifier = RandomForestClassifier(n_estimators=100, random_state=42)\n",
        "rf_classifier.fit(X_train, y_train)\n",
        "\n",
        "# Make predictions with Random Forest\n",
        "y_pred_rf = rf_classifier.predict(X_test)\n",
        "\n",
        "# Model Evaluation for Random Forest\n",
        "accuracy_rf = accuracy_score(y_test, y_pred_rf)\n",
        "precision_rf = precision_score(y_test, y_pred_rf)\n",
        "recall_rf = recall_score(y_test, y_pred_rf)\n",
        "f1_rf = f1_score(y_test, y_pred_rf)\n",
        "\n",
        "print(\"\\nRandom Forest Model Evaluation:\")\n",
        "print(f\"Accuracy: {accuracy_rf:.2f}\")\n",
        "print(f\"Precision: {precision_rf:.2f}\")\n",
        "print(f\"Recall: {recall_rf:.2f}\")\n",
        "print(f\"F1 Score: {f1_rf:.2f}\")\n",
        "print()\n",
        "results = pd.DataFrame({\n",
        "    'Actual': y_test,\n",
        "    'Logistic Regression': y_pred_logistic,\n",
        "    'Gradient Boosting': y_pred_gb,\n",
        "    'Random Forest': y_pred_rf\n",
        "})\n",
        "\n",
        "print(results)"
      ],
      "metadata": {
        "colab": {
          "base_uri": "https://localhost:8080/"
        },
        "id": "1Z4UQbwlra8T",
        "outputId": "8d28feb3-6bca-4f3d-b16c-9bf1489b8b6d"
      },
      "execution_count": 7,
      "outputs": [
        {
          "output_type": "stream",
          "name": "stdout",
          "text": [
            "Logistic Regression Model Evaluation:\n",
            "Accuracy: 0.81\n",
            "Precision: 0.60\n",
            "Recall: 0.18\n",
            "F1 Score: 0.28\n",
            "\n",
            "Gradient Boosting Model Evaluation:\n",
            "Accuracy: 0.87\n",
            "Precision: 0.75\n",
            "Recall: 0.47\n",
            "F1 Score: 0.58\n",
            "\n",
            "Random Forest Model Evaluation:\n",
            "Accuracy: 0.86\n",
            "Precision: 0.75\n",
            "Recall: 0.47\n",
            "F1 Score: 0.58\n",
            "\n",
            "      Actual  Logistic Regression  Gradient Boosting  Random Forest\n",
            "6252       0                    0                  0              0\n",
            "4684       0                    0                  0              0\n",
            "1731       0                    0                  0              0\n",
            "4742       0                    0                  0              0\n",
            "4521       0                    0                  0              0\n",
            "...      ...                  ...                ...            ...\n",
            "6412       1                    0                  1              1\n",
            "8285       0                    0                  0              0\n",
            "7853       1                    0                  1              1\n",
            "1095       1                    0                  0              0\n",
            "6929       1                    0                  0              0\n",
            "\n",
            "[2000 rows x 4 columns]\n"
          ]
        }
      ]
    }
  ]
}