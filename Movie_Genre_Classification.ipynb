{
  "nbformat": 4,
  "nbformat_minor": 0,
  "metadata": {
    "colab": {
      "provenance": [],
      "authorship_tag": "ABX9TyOGECfH0algfvy1gKEmnaXL",
      "include_colab_link": true
    },
    "kernelspec": {
      "name": "python3",
      "display_name": "Python 3"
    },
    "language_info": {
      "name": "python"
    }
  },
  "cells": [
    {
      "cell_type": "markdown",
      "metadata": {
        "id": "view-in-github",
        "colab_type": "text"
      },
      "source": [
        "<a href=\"https://colab.research.google.com/github/vyshnxviii/CodSoft1/blob/main/Movie_Genre_Classification.ipynb\" target=\"_parent\"><img src=\"https://colab.research.google.com/assets/colab-badge.svg\" alt=\"Open In Colab\"/></a>"
      ]
    },
    {
      "cell_type": "markdown",
      "source": [
        "**TASK 1** - MOVIE GENRE CLASSIFICATION"
      ],
      "metadata": {
        "id": "posShJbZ1FNC"
      }
    },
    {
      "cell_type": "code",
      "execution_count": 3,
      "metadata": {
        "id": "hIaCH_WptHV4",
        "colab": {
          "base_uri": "https://localhost:8080/"
        },
        "outputId": "463dab52-8750-4cf6-c42e-2cd5b0cf20d0"
      },
      "outputs": [
        {
          "output_type": "stream",
          "name": "stderr",
          "text": [
            "<ipython-input-3-42d4dd84064f>:26: FutureWarning: The default value of regex will change from True to False in a future version.\n",
            "  train_df['Plot'] = train_df['Plot'].str.replace('[^\\w\\s]', '')\n",
            "<ipython-input-3-42d4dd84064f>:27: FutureWarning: The default value of regex will change from True to False in a future version.\n",
            "  test_df['Plot'] = test_df['Plot'].str.replace('[^\\w\\s]', '')\n",
            "/usr/local/lib/python3.10/dist-packages/sklearn/linear_model/_logistic.py:458: ConvergenceWarning: lbfgs failed to converge (status=1):\n",
            "STOP: TOTAL NO. of ITERATIONS REACHED LIMIT.\n",
            "\n",
            "Increase the number of iterations (max_iter) or scale the data as shown in:\n",
            "    https://scikit-learn.org/stable/modules/preprocessing.html\n",
            "Please also refer to the documentation for alternative solver options:\n",
            "    https://scikit-learn.org/stable/modules/linear_model.html#logistic-regression\n",
            "  n_iter_i = _check_optimize_result(\n"
          ]
        },
        {
          "output_type": "stream",
          "name": "stdout",
          "text": [
            "Accuracy: 0.59\n"
          ]
        },
        {
          "output_type": "stream",
          "name": "stderr",
          "text": [
            "/usr/local/lib/python3.10/dist-packages/sklearn/metrics/_classification.py:1344: UndefinedMetricWarning: Precision and F-score are ill-defined and being set to 0.0 in labels with no predicted samples. Use `zero_division` parameter to control this behavior.\n",
            "  _warn_prf(average, modifier, msg_start, len(result))\n",
            "/usr/local/lib/python3.10/dist-packages/sklearn/metrics/_classification.py:1344: UndefinedMetricWarning: Precision and F-score are ill-defined and being set to 0.0 in labels with no predicted samples. Use `zero_division` parameter to control this behavior.\n",
            "  _warn_prf(average, modifier, msg_start, len(result))\n"
          ]
        },
        {
          "output_type": "stream",
          "name": "stdout",
          "text": [
            "Classification Report:\n",
            "               precision    recall  f1-score   support\n",
            "\n",
            "      action        0.50      0.27      0.35      1314\n",
            "       adult        0.61      0.21      0.32       590\n",
            "   adventure        0.73      0.15      0.25       775\n",
            "   animation        0.56      0.02      0.04       498\n",
            "   biography        0.00      0.00      0.00       264\n",
            "      comedy        0.55      0.59      0.57      7446\n",
            "       crime        0.42      0.02      0.04       505\n",
            " documentary        0.67      0.87      0.76     13096\n",
            "       drama        0.54      0.80      0.65     13612\n",
            "      family        0.52      0.08      0.13       783\n",
            "     fantasy        0.80      0.01      0.02       322\n",
            "   game-show        0.94      0.48      0.63       193\n",
            "     history        0.00      0.00      0.00       243\n",
            "      horror        0.66      0.57      0.61      2204\n",
            "       music        0.66      0.45      0.53       731\n",
            "     musical        0.00      0.00      0.00       276\n",
            "     mystery        0.00      0.00      0.00       318\n",
            "        news        1.00      0.01      0.02       181\n",
            "  reality-tv        0.53      0.20      0.29       883\n",
            "     romance        0.34      0.02      0.03       672\n",
            "      sci-fi        0.59      0.23      0.33       646\n",
            "       short        0.52      0.32      0.40      5072\n",
            "       sport        0.78      0.26      0.39       431\n",
            "   talk-show        0.52      0.20      0.29       391\n",
            "    thriller        0.42      0.13      0.20      1590\n",
            "         war        0.00      0.00      0.00       132\n",
            "     western        0.91      0.72      0.80      1032\n",
            "\n",
            "     accuracy                           0.59     54200\n",
            "    macro avg       0.51      0.24      0.28     54200\n",
            " weighted avg       0.57      0.59      0.55     54200\n",
            "\n",
            "              Actual      Predicted\n",
            "0          thriller         comedy \n",
            "1            comedy          drama \n",
            "2       documentary    documentary \n",
            "3             drama          drama \n",
            "4             drama          drama \n",
            "...              ...            ...\n",
            "54195        horror          drama \n",
            "54196       western          drama \n",
            "54197         adult          drama \n",
            "54198         drama          drama \n",
            "54199         drama    documentary \n",
            "\n",
            "[54200 rows x 2 columns]\n"
          ]
        },
        {
          "output_type": "stream",
          "name": "stderr",
          "text": [
            "/usr/local/lib/python3.10/dist-packages/sklearn/metrics/_classification.py:1344: UndefinedMetricWarning: Precision and F-score are ill-defined and being set to 0.0 in labels with no predicted samples. Use `zero_division` parameter to control this behavior.\n",
            "  _warn_prf(average, modifier, msg_start, len(result))\n"
          ]
        }
      ],
      "source": [
        "#import libraries\n",
        "import pandas as pd\n",
        "from sklearn.feature_extraction.text import TfidfVectorizer\n",
        "from sklearn.linear_model import LogisticRegression\n",
        "from sklearn.metrics import accuracy_score, classification_report\n",
        "\n",
        "# Load training dataset\n",
        "with open('/content/train_data.txt', 'r', encoding='utf-8') as file:\n",
        "    train_lines = file.read().splitlines()\n",
        "\n",
        "train_data = [line.split(':::') for line in train_lines]\n",
        "\n",
        "# Load testing dataset\n",
        "with open('/content/test_data.txt', 'r', encoding='utf-8') as file:\n",
        "    test_lines = file.read().splitlines()\n",
        "\n",
        "test_data = [line.split(':::') for line in test_lines]\n",
        "\n",
        "# Create DataFrames\n",
        "train_df = pd.DataFrame(train_data, columns=['SNo', 'Title', 'Genre', 'Plot'])\n",
        "test_df = pd.DataFrame(test_data, columns=['SNo', 'Title', 'Plot'])\n",
        "\n",
        "# Text preprocessing\n",
        "train_df['Plot'] = train_df['Plot'].str.lower()\n",
        "test_df['Plot'] = test_df['Plot'].str.lower()\n",
        "train_df['Plot'] = train_df['Plot'].str.replace('[^\\w\\s]', '')\n",
        "test_df['Plot'] = test_df['Plot'].str.replace('[^\\w\\s]', '')\n",
        "\n",
        "# Feature extraction using TF-IDF\n",
        "vectorizer = TfidfVectorizer()\n",
        "X_train = vectorizer.fit_transform(train_df['Plot'])\n",
        "X_test = vectorizer.transform(test_df['Plot'])\n",
        "\n",
        "# Define labels\n",
        "y_train = train_df['Genre']\n",
        "\n",
        "# Train Logistic Regression model\n",
        "logistic_classifier = LogisticRegression()\n",
        "logistic_classifier.fit(X_train, y_train)\n",
        "\n",
        "# Make predictions\n",
        "y_pred = logistic_classifier.predict(X_test)\n",
        "\n",
        "# Load test_data_solution dataset\n",
        "with open('/content/test_data_solution.txt', 'r', encoding='utf-8') as file:\n",
        "    solution_lines = file.read().splitlines()\n",
        "\n",
        "solution_data = [line.split(':::') for line in solution_lines]\n",
        "y_true = [genre for _, _, genre, _ in solution_data]\n",
        "\n",
        "# Calculate accuracy\n",
        "accuracy = accuracy_score(y_true, y_pred)\n",
        "print(f'Accuracy: {accuracy:.2f}')\n",
        "\n",
        "# Print classification report\n",
        "class_report = classification_report(y_true, y_pred)\n",
        "print(\"Classification Report:\")\n",
        "print(class_report)\n",
        "\n",
        "results = pd.DataFrame({\n",
        "    'Actual': y_true,\n",
        "    'Predicted': y_pred\n",
        "})\n",
        "print(results)"
      ]
    }
  ]
}